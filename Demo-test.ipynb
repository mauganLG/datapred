{
 "cells": [
  {
   "cell_type": "code",
   "execution_count": 1,
   "id": "baa7d49d",
   "metadata": {},
   "outputs": [],
   "source": [
    "from pathlib import Path\n",
    "import datapred.loadfromcsv as lfc"
   ]
  },
  {
   "cell_type": "code",
   "execution_count": 3,
   "id": "4351eed7",
   "metadata": {},
   "outputs": [],
   "source": [
    "path = Path('data/')"
   ]
  },
  {
   "cell_type": "markdown",
   "id": "891337af",
   "metadata": {},
   "source": [
    "<h2>Load datas from file to dataframes</h2>"
   ]
  },
  {
   "cell_type": "code",
   "execution_count": 4,
   "id": "9dfbc6b7",
   "metadata": {},
   "outputs": [],
   "source": [
    "d_data_df = lfc.DataAnalysisBuilder().open_csv_files(path)"
   ]
  },
  {
   "cell_type": "markdown",
   "id": "b0f9719f",
   "metadata": {},
   "source": [
    "<h2>We see the keys associate to the dataframe</h2>"
   ]
  },
  {
   "cell_type": "code",
   "execution_count": 5,
   "id": "12624cd3",
   "metadata": {},
   "outputs": [
    {
     "data": {
      "text/plain": [
       "dict_keys(['products', 'stores', 'sales_data'])"
      ]
     },
     "execution_count": 5,
     "metadata": {},
     "output_type": "execute_result"
    }
   ],
   "source": [
    "d_data_df.keys()"
   ]
  },
  {
   "cell_type": "markdown",
   "id": "f9103373",
   "metadata": {},
   "source": [
    "<h2> Now we will find the three top retailers </h2>"
   ]
  },
  {
   "cell_type": "code",
   "execution_count": 6,
   "id": "de239447",
   "metadata": {},
   "outputs": [],
   "source": [
    "import datapred.threetopretailers as ttr"
   ]
  },
  {
   "cell_type": "markdown",
   "id": "d64a1e52",
   "metadata": {},
   "source": [
    "<h2>We charge the dataframe needed</h2>"
   ]
  },
  {
   "cell_type": "code",
   "execution_count": 7,
   "id": "5ec1de86",
   "metadata": {},
   "outputs": [],
   "source": [
    "df_store = d_data_df['stores']"
   ]
  },
  {
   "cell_type": "code",
   "execution_count": 9,
   "id": "e037e252",
   "metadata": {},
   "outputs": [],
   "source": [
    "df_sales= d_data_df['sales_data']"
   ]
  },
  {
   "cell_type": "code",
   "execution_count": 10,
   "id": "1c41e74c",
   "metadata": {},
   "outputs": [],
   "source": [
    "three_top = ttr.ThreeTopRetailers.builder(df_store,df_sales)"
   ]
  },
  {
   "cell_type": "code",
   "execution_count": 11,
   "id": "94c4603c",
   "metadata": {},
   "outputs": [],
   "source": [
    "from datetime import date"
   ]
  },
  {
   "cell_type": "code",
   "execution_count": 12,
   "id": "0d1eee45",
   "metadata": {},
   "outputs": [],
   "source": [
    "start_date = date.fromisoformat('2016-01-25')"
   ]
  },
  {
   "cell_type": "code",
   "execution_count": 13,
   "id": "e06043cf",
   "metadata": {},
   "outputs": [],
   "source": [
    "end_date = date.fromisoformat('2016-03-12')"
   ]
  },
  {
   "cell_type": "code",
   "execution_count": 14,
   "id": "d815c5cb",
   "metadata": {},
   "outputs": [],
   "source": [
    "l_three_top = three_top.request(start_date,end_date)"
   ]
  },
  {
   "cell_type": "markdown",
   "id": "ec8606b6",
   "metadata": {},
   "source": [
    "<h2>Here the three top retailers between the defined dates</h2>"
   ]
  },
  {
   "cell_type": "code",
   "execution_count": 16,
   "id": "e1252990",
   "metadata": {},
   "outputs": [
    {
     "data": {
      "text/plain": [
       "[2, 1, 0]"
      ]
     },
     "execution_count": 16,
     "metadata": {},
     "output_type": "execute_result"
    }
   ],
   "source": [
    "l_three_top"
   ]
  },
  {
   "cell_type": "markdown",
   "id": "ee25698d",
   "metadata": {},
   "source": [
    "<h2> Now we will find the top family product and its number of sales for each date  </h2>"
   ]
  },
  {
   "cell_type": "code",
   "execution_count": 17,
   "id": "ae2fd4a6",
   "metadata": {},
   "outputs": [],
   "source": [
    "import datapred.topfamilyproductsales as tfp"
   ]
  },
  {
   "cell_type": "code",
   "execution_count": 19,
   "id": "588c5815",
   "metadata": {},
   "outputs": [],
   "source": [
    "df_product = d_data_df['products']"
   ]
  },
  {
   "cell_type": "code",
   "execution_count": 20,
   "id": "613470f3",
   "metadata": {},
   "outputs": [],
   "source": [
    "top_family = tfp.TopFamilyProductSales.builder(df_product,df_sales)"
   ]
  },
  {
   "cell_type": "code",
   "execution_count": 21,
   "id": "3a190ae4",
   "metadata": {},
   "outputs": [],
   "source": [
    "end_date_top = date.fromisoformat('2016-02-11')"
   ]
  },
  {
   "cell_type": "code",
   "execution_count": 22,
   "id": "f0fda6cb",
   "metadata": {},
   "outputs": [],
   "source": [
    "top = top_family.request(end=end_date_top)"
   ]
  },
  {
   "cell_type": "markdown",
   "id": "e4472f9d",
   "metadata": {},
   "source": [
    "<h2>Here we see between the start data(2016-01-01) and the end the family product 8 is the best</h2> "
   ]
  },
  {
   "cell_type": "code",
   "execution_count": 23,
   "id": "17d46f09",
   "metadata": {},
   "outputs": [
    {
     "data": {
      "text/plain": [
       "8"
      ]
     },
     "execution_count": 23,
     "metadata": {},
     "output_type": "execute_result"
    }
   ],
   "source": [
    "top[0]"
   ]
  },
  {
   "cell_type": "markdown",
   "id": "88a162d4",
   "metadata": {},
   "source": [
    "<h2>Here the sales of the product 8 for each days from 01-01-2016 to 11-02-2016 </h2>"
   ]
  },
  {
   "cell_type": "code",
   "execution_count": 24,
   "id": "26245540",
   "metadata": {},
   "outputs": [
    {
     "data": {
      "text/html": [
       "<div>\n",
       "<style scoped>\n",
       "    .dataframe tbody tr th:only-of-type {\n",
       "        vertical-align: middle;\n",
       "    }\n",
       "\n",
       "    .dataframe tbody tr th {\n",
       "        vertical-align: top;\n",
       "    }\n",
       "\n",
       "    .dataframe thead th {\n",
       "        text-align: right;\n",
       "    }\n",
       "</style>\n",
       "<table border=\"1\" class=\"dataframe\">\n",
       "  <thead>\n",
       "    <tr style=\"text-align: right;\">\n",
       "      <th></th>\n",
       "      <th>sales</th>\n",
       "      <th>date</th>\n",
       "    </tr>\n",
       "  </thead>\n",
       "  <tbody>\n",
       "    <tr>\n",
       "      <th>0</th>\n",
       "      <td>46</td>\n",
       "      <td>2016-01-01</td>\n",
       "    </tr>\n",
       "    <tr>\n",
       "      <th>1</th>\n",
       "      <td>136</td>\n",
       "      <td>2016-01-02</td>\n",
       "    </tr>\n",
       "    <tr>\n",
       "      <th>2</th>\n",
       "      <td>3</td>\n",
       "      <td>2016-01-03</td>\n",
       "    </tr>\n",
       "    <tr>\n",
       "      <th>3</th>\n",
       "      <td>120</td>\n",
       "      <td>2016-01-04</td>\n",
       "    </tr>\n",
       "    <tr>\n",
       "      <th>4</th>\n",
       "      <td>134</td>\n",
       "      <td>2016-01-05</td>\n",
       "    </tr>\n",
       "    <tr>\n",
       "      <th>...</th>\n",
       "      <td>...</td>\n",
       "      <td>...</td>\n",
       "    </tr>\n",
       "    <tr>\n",
       "      <th>52495</th>\n",
       "      <td>88</td>\n",
       "      <td>2016-02-07</td>\n",
       "    </tr>\n",
       "    <tr>\n",
       "      <th>52496</th>\n",
       "      <td>12</td>\n",
       "      <td>2016-02-08</td>\n",
       "    </tr>\n",
       "    <tr>\n",
       "      <th>52497</th>\n",
       "      <td>88</td>\n",
       "      <td>2016-02-09</td>\n",
       "    </tr>\n",
       "    <tr>\n",
       "      <th>52498</th>\n",
       "      <td>53</td>\n",
       "      <td>2016-02-10</td>\n",
       "    </tr>\n",
       "    <tr>\n",
       "      <th>52499</th>\n",
       "      <td>85</td>\n",
       "      <td>2016-02-11</td>\n",
       "    </tr>\n",
       "  </tbody>\n",
       "</table>\n",
       "<p>52500 rows × 2 columns</p>\n",
       "</div>"
      ],
      "text/plain": [
       "       sales       date\n",
       "0         46 2016-01-01\n",
       "1        136 2016-01-02\n",
       "2          3 2016-01-03\n",
       "3        120 2016-01-04\n",
       "4        134 2016-01-05\n",
       "...      ...        ...\n",
       "52495     88 2016-02-07\n",
       "52496     12 2016-02-08\n",
       "52497     88 2016-02-09\n",
       "52498     53 2016-02-10\n",
       "52499     85 2016-02-11\n",
       "\n",
       "[52500 rows x 2 columns]"
      ]
     },
     "execution_count": 24,
     "metadata": {},
     "output_type": "execute_result"
    }
   ],
   "source": [
    "top[1]"
   ]
  },
  {
   "cell_type": "code",
   "execution_count": null,
   "id": "de5244ac",
   "metadata": {},
   "outputs": [],
   "source": []
  }
 ],
 "metadata": {
  "kernelspec": {
   "display_name": "datapred",
   "language": "python",
   "name": "datapred"
  },
  "language_info": {
   "codemirror_mode": {
    "name": "ipython",
    "version": 3
   },
   "file_extension": ".py",
   "mimetype": "text/x-python",
   "name": "python",
   "nbconvert_exporter": "python",
   "pygments_lexer": "ipython3",
   "version": "3.10.6"
  }
 },
 "nbformat": 4,
 "nbformat_minor": 5
}
